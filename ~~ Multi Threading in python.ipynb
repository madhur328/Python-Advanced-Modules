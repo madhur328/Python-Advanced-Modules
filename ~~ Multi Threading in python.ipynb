{
 "cells": [
  {
   "cell_type": "code",
   "execution_count": 1,
   "metadata": {},
   "outputs": [],
   "source": [
    "#conda install -c conda-forge tbb\n",
    "#tbb stands for threading building blocks"
   ]
  },
  {
   "cell_type": "code",
   "execution_count": 2,
   "metadata": {},
   "outputs": [],
   "source": [
    "from threading import *"
   ]
  },
  {
   "cell_type": "markdown",
   "metadata": {},
   "source": [
    "# Using Thread without making a class"
   ]
  },
  {
   "cell_type": "code",
   "execution_count": 17,
   "metadata": {},
   "outputs": [
    {
     "name": "stdout",
     "output_type": "stream",
     "text": [
      "Executing thread1\n",
      "Executing thread1Bye\n",
      "Executing thread1\n",
      "\n",
      "Executing thread1\n",
      "Executing thread1\n",
      "Executing thread1\n"
     ]
    }
   ],
   "source": [
    "def myfunc():\n",
    "    for i in range(6):\n",
    "        print('Executing thread1')\n",
    "thread1 = Thread(target = myfunc)  #we can see that main thread and child execute in parallel\n",
    "thread1.start()\n",
    "print('Bye')"
   ]
  },
  {
   "cell_type": "code",
   "execution_count": 31,
   "metadata": {},
   "outputs": [],
   "source": [
    "def HowYaFeeling():\n",
    "    lst = ['Feeling great','Feeling good','Feeling okay','Feeling so-so','Feeling blue','Feeling devastated']\n",
    "    import random\n",
    "    for i in range(15):\n",
    "        print(lst[random.randint(0,5)])"
   ]
  },
  {
   "cell_type": "code",
   "execution_count": 33,
   "metadata": {},
   "outputs": [
    {
     "name": "stdout",
     "output_type": "stream",
     "text": [
      "Feeling blue\n",
      "Feeling blue\n",
      "Feeling devastated\n",
      "Feeling good\n",
      "Feeling devastated\n",
      "Feeling so-so\n",
      "Feeling great\n",
      "Feeling devastated\n",
      "Feeling blue\n",
      "Why did you forget me- Main Thread\n",
      "Feeling so-so\n",
      "Feeling great\n",
      "Feeling great\n",
      "Feeling great\n",
      "Feeling good\n",
      "Feeling so-so\n"
     ]
    }
   ],
   "source": [
    "childThread = Thread(target = HowYaFeeling)\n",
    "childThread.start()\n",
    "print('Why did you forget me- Main Thread')"
   ]
  },
  {
   "cell_type": "code",
   "execution_count": 42,
   "metadata": {},
   "outputs": [
    {
     "name": "stdout",
     "output_type": "stream",
     "text": [
      "Feeling okay\n",
      "Current thread executing id:  Thread-30\n",
      "Feeling great\n",
      "Current thread executing id:  Thread-30\n",
      "Feeling so-so\n",
      "Current thread executing id:  Thread-30\n",
      "Feeling so-so\n",
      "Current thread executing id:  Thread-30\n",
      "Feeling good\n",
      "Current thread executing id:  Thread-30\n",
      "Feeling so-so\n",
      "Current thread executing id:  Thread-30\n",
      "Feeling devastated\n",
      "Current thread executing id:  Thread-30\n",
      "Feeling so-so\n",
      "Current thread executing id:  Thread-30\n",
      "Feeling good\n",
      "Current thread executing id:  Thread-30\n",
      "Feeling devastated\n",
      "Current thread executing id:  Thread-30\n",
      "Feeling great\n",
      "Current thread executing id:  Thread-30\n",
      "Feeling good\n",
      "Current thread executing id:  Thread-30\n",
      "Feeling so-so\n",
      "Current thread executing id:  Thread-30\n",
      "Feeling okay\n",
      "Current thread executing id:  Thread-30\n",
      "Feeling so-so\n",
      "Current thread executing id:  Thread-30\n",
      "Why did you forget me- Main Thread\n"
     ]
    }
   ],
   "source": [
    "#We can lock execution of main thread untill after execution of child thread\n",
    "childThread = Thread(target = HowYaFeeling)\n",
    "childThread.start()\n",
    "childThread.join()\n",
    "print('Why did you forget me- Main Thread')"
   ]
  },
  {
   "cell_type": "code",
   "execution_count": 43,
   "metadata": {},
   "outputs": [
    {
     "name": "stdout",
     "output_type": "stream",
     "text": [
      "Feeling devastated\n",
      "MainThreadCurrent thread executing id:  \n",
      "Thread-31\n",
      "Feeling okay\n",
      "Current thread executing id:  Thread-31\n",
      "Feeling so-so\n",
      "Current thread executing id:  Thread-31\n",
      "Feeling good\n",
      "Current thread executing id:  Thread-31\n",
      "Feeling okay\n",
      "Current thread executing id:  Thread-31\n",
      "Feeling okay\n",
      "Current thread executing id:  Thread-31\n",
      "Feeling great\n",
      "Current thread executing id:  Thread-31\n",
      "Feeling devastated\n",
      "Current thread executing id:  Thread-31\n",
      "Feeling blue\n",
      "Current thread executing id:  Thread-31\n",
      "Feeling blue\n",
      "Current thread executing id:  Thread-31\n",
      "Feeling so-so\n",
      "Current thread executing id:  Thread-31\n",
      "Feeling so-so\n",
      "Current thread executing id:  Thread-31\n",
      "Feeling great\n",
      "Current thread executing id:  Thread-31\n",
      "Feeling so-so\n",
      "Current thread executing id:  Thread-31\n",
      "Feeling blue\n",
      "Current thread executing id:  Thread-31\n",
      "MainThread\n",
      "Why did you forget me MainThread\n"
     ]
    }
   ],
   "source": [
    "#we can display current thread under execution by using current_thread().getName()\n",
    "def HowYaFeeling():\n",
    "    lst = ['Feeling great','Feeling good','Feeling okay','Feeling so-so','Feeling blue','Feeling devastated']\n",
    "    import random\n",
    "    for i in range(15):\n",
    "        print(lst[random.randint(0,5)])\n",
    "        print('Current thread executing id: ',current_thread().getName())\n",
    "childThread = Thread(target = HowYaFeeling)\n",
    "childThread.start()\n",
    "print(current_thread().getName())\n",
    "childThread.join()\n",
    "print(current_thread().getName())\n",
    "print('Why did you forget me', current_thread().getName())"
   ]
  },
  {
   "cell_type": "markdown",
   "metadata": {},
   "source": [
    "# Starting new thread using existing Thread class "
   ]
  },
  {
   "cell_type": "code",
   "execution_count": 45,
   "metadata": {},
   "outputs": [],
   "source": [
    "import threading\n",
    "class Thread_class(threading.Thread):\n",
    "    def run(self):\n",
    "        for i in range(7):\n",
    "            print(\"I am a child so I throw tantrums:  tantrum no. \",i)"
   ]
  },
  {
   "cell_type": "code",
   "execution_count": 46,
   "metadata": {},
   "outputs": [
    {
     "name": "stdout",
     "output_type": "stream",
     "text": [
      "I am a child so I throw tantrums:  tantrum no.  0\n",
      "I am a child so I throw tantrums:  tantrum no.  1\n",
      "I am a child so I throw tantrums:  tantrum no.  2\n",
      "I am a child so I throw tantrums:  tantrum no.  3\n",
      "I am a child so I throw tantrums:  tantrum no.  4\n",
      "I am a child so I throw tantrums:  tantrum no.  5\n",
      "I am a child so I throw tantrums:  tantrum no.  6\n",
      "Done executing\n"
     ]
    }
   ],
   "source": [
    "thread1 = Thread_class()\n",
    "thread1.start()\n",
    "thread1.join()\n",
    "print('Done executing')"
   ]
  },
  {
   "cell_type": "markdown",
   "metadata": {},
   "source": [
    "# Using Thread without extending thread class"
   ]
  },
  {
   "cell_type": "code",
   "execution_count": 47,
   "metadata": {},
   "outputs": [],
   "source": [
    "class My_Class():\n",
    "    def my_func(self):\n",
    "        for i in range(7):\n",
    "            print('Child executing, i is now',i)"
   ]
  },
  {
   "cell_type": "code",
   "execution_count": 48,
   "metadata": {},
   "outputs": [
    {
     "name": "stdout",
     "output_type": "stream",
     "text": [
      "Child executing, i is now 0\n",
      "Child executing, i is now 1\n",
      "Child executing, i is now 2\n",
      "Child executing, i is now 3\n",
      "Child executing, i is now 4\n",
      "Child executing, i is now 5\n",
      "Child executing, i is now 6\n",
      "I am too tired of your shit\n"
     ]
    }
   ],
   "source": [
    "instance = My_Class()\n",
    "thread1 = Thread(target = instance.my_func)\n",
    "thread1.start()\n",
    "thread1.join()\n",
    "print('I am too tired of your shit')"
   ]
  },
  {
   "cell_type": "markdown",
   "metadata": {},
   "source": [
    "## Time comarisons for a specific program (also passing arguments to threads)"
   ]
  },
  {
   "cell_type": "code",
   "execution_count": 55,
   "metadata": {},
   "outputs": [
    {
     "name": "stdout",
     "output_type": "stream",
     "text": [
      "0\n",
      "0\n",
      "1\n",
      "0\n",
      "1\n",
      "2\n",
      "1\n",
      "0\n",
      "0\n",
      "1\n",
      "0.0009992122650146484\n"
     ]
    }
   ],
   "source": [
    "#Without thread\n",
    "import time\n",
    "n = [2,4,3,6,7]\n",
    "def remainder2(n):\n",
    "    for i in n:\n",
    "        print(i%2)\n",
    "\n",
    "def remainder3(n):\n",
    "    for i in n:\n",
    "        print(i%3)\n",
    "\n",
    "s = time.time()\n",
    "remainder2(n)\n",
    "remainder3(n)\n",
    "e = time.time()\n",
    "\n",
    "print(e-s)\n"
   ]
  },
  {
   "cell_type": "code",
   "execution_count": 61,
   "metadata": {},
   "outputs": [
    {
     "name": "stdout",
     "output_type": "stream",
     "text": [
      "0\n",
      "0\n",
      "1\n",
      "0\n",
      "1\n",
      "2\n",
      "1\n",
      "0\n",
      "0\n",
      "1\n",
      "0.004997730255126953\n"
     ]
    }
   ],
   "source": [
    "#Without making thread class\n",
    "import time\n",
    "n = [2,4,3,6,7]\n",
    "def remainder2(n):\n",
    "    for i in n:\n",
    "        print(i%2)\n",
    "\n",
    "def remainder3(n):\n",
    "    for i in n:\n",
    "        print(i%3)    \n",
    "#write 'args = ' then pass arguments a tuple. here n is the first argument of the tuple. writing ','\n",
    "#is mandatory for only one argument as (string) or (list) will not convert them into tuples but just \n",
    "#parenthise them\n",
    "s = time.time()\n",
    "t1 = Thread(target = remainder2, args = (n,))\n",
    "t2 = Thread(target = remainder3, args = (n,))\n",
    "t1.start()\n",
    "t2.start()\n",
    "t1.join()\n",
    "t2.join()\n",
    "e = time.time()\n",
    "\n",
    "print(e-s)\n"
   ]
  },
  {
   "cell_type": "code",
   "execution_count": 71,
   "metadata": {},
   "outputs": [
    {
     "name": "stdout",
     "output_type": "stream",
     "text": [
      "02\n",
      "1\n",
      "0\n",
      "0\n",
      "1\n",
      "\n",
      "0\n",
      "1\n",
      "0\n",
      "1\n",
      "0.005997896194458008\n"
     ]
    }
   ],
   "source": [
    "#Using the thread class\n",
    "import time\n",
    "import threading\n",
    "n = [2,4,3,6,7]\n",
    "\n",
    "class Remainder2(threading.Thread):\n",
    "    def __init__(self,n):\n",
    "        self.n = n\n",
    "        super().__init__()\n",
    "    def run(self):\n",
    "        for i in self.n:\n",
    "            print(i%2)\n",
    "\n",
    "class Remainder3(threading.Thread):\n",
    "    def __init__(self,n):\n",
    "        self.n = n\n",
    "        super().__init__()\n",
    "    def run(self):\n",
    "        for i in self.n:\n",
    "            print(i%3)  \n",
    "\n",
    "\n",
    "\n",
    "s = time.time()\n",
    "t1 = Remainder2(n)\n",
    "t2 = Remainder3(n)\n",
    "t1.start()\n",
    "t2.start()\n",
    "t1.join()\n",
    "t2.join()\n",
    "e = time.time()\n",
    "\n",
    "print(e-s)\n"
   ]
  },
  {
   "cell_type": "code",
   "execution_count": 85,
   "metadata": {},
   "outputs": [
    {
     "name": "stdout",
     "output_type": "stream",
     "text": [
      "0\n",
      "0\n",
      "1\n",
      "0\n",
      "1\n",
      "2\n",
      "1\n",
      "0\n",
      "0\n",
      "1\n",
      "0.004995107650756836\n"
     ]
    }
   ],
   "source": [
    "#Using a class but without extending thread class\n",
    "import time\n",
    "import threading\n",
    "n = [2,4,3,6,7]\n",
    "\n",
    "class Remainder2():\n",
    "    def __init__(self,n):\n",
    "        self.n = n\n",
    "        super().__init__()\n",
    "    def run(self):\n",
    "        for i in self.n:\n",
    "            print(i%2)\n",
    "\n",
    "class Remainder3():\n",
    "    def __init__(self,n):\n",
    "        self.n = n\n",
    "        super().__init__()\n",
    "    def run(self):\n",
    "        for i in self.n:\n",
    "            print(i%3)  \n",
    "\n",
    "\n",
    "\n",
    "s = time.time()\n",
    "rem2 = Remainder2(n)\n",
    "rem3 = Remainder3(n)\n",
    "t1 = Thread(target = rem2.run())\n",
    "t2 = Thread(target = rem3.run())\n",
    "t1.start()\n",
    "t2.start()\n",
    "t1.join()\n",
    "t2.join()\n",
    "e = time.time()\n",
    "\n",
    "print(e-s)"
   ]
  },
  {
   "cell_type": "markdown",
   "metadata": {},
   "source": [
    "# Thread Locks to prevent race condition"
   ]
  },
  {
   "cell_type": "code",
   "execution_count": 86,
   "metadata": {},
   "outputs": [],
   "source": [
    "#Race condition occurs when multiple threads try to access the same global variables or some critical \n",
    "#pieece of data. Due to race condition, the value of variables becomes unpredictable"
   ]
  },
  {
   "cell_type": "code",
   "execution_count": 89,
   "metadata": {},
   "outputs": [
    {
     "name": "stdout",
     "output_type": "stream",
     "text": [
      "Iteration 0: x = 200000\n",
      "Iteration 1: x = 166582\n",
      "Iteration 2: x = 200000\n",
      "Iteration 3: x = 200000\n",
      "Iteration 4: x = 200000\n",
      "Iteration 5: x = 200000\n",
      "Iteration 6: x = 200000\n",
      "Iteration 7: x = 144820\n",
      "Iteration 8: x = 195310\n",
      "Iteration 9: x = 200000\n"
     ]
    }
   ],
   "source": [
    "#Race condition example\n",
    "\n",
    "import threading \n",
    "  \n",
    "# global variable x \n",
    "x = 0\n",
    "  \n",
    "def increment(): #increments once\n",
    "    \"\"\" \n",
    "    function to increment global variable x \n",
    "    \"\"\"\n",
    "    global x \n",
    "    x += 1\n",
    "  \n",
    "def thread_task():  #increments 1 lac times\n",
    "    \"\"\" \n",
    "    task for thread \n",
    "    calls increment function 100000 times. \n",
    "    \"\"\"\n",
    "    for _ in range(100000): \n",
    "        increment() \n",
    "  \n",
    "def main_task(): #increment 1 lac times using thread t1 and another 1 lac times using thread t2\n",
    "    global x \n",
    "    # setting global variable x as 0 \n",
    "    x = 0\n",
    "  \n",
    "    # creating threads \n",
    "    t1 = threading.Thread(target=thread_task) \n",
    "    t2 = threading.Thread(target=thread_task) \n",
    "  \n",
    "    # start threads \n",
    "    t1.start() \n",
    "    t2.start() \n",
    "  \n",
    "    # wait until threads finish their job \n",
    "    t1.join() \n",
    "    t2.join() \n",
    "  \n",
    "if __name__ == \"__main__\": \n",
    "    for i in range(10): \n",
    "        main_task() \n",
    "        print(\"Iteration {0}: x = {1}\".format(i,x)) "
   ]
  },
  {
   "cell_type": "code",
   "execution_count": 87,
   "metadata": {},
   "outputs": [],
   "source": [
    "#To prevent thread locks we use Semaphore object provided bby the operating system, it is a \n",
    "#synchronization object with values 0,1 to indicate if a thread requesting a resource can use it\n",
    "#or has to wait before borrowing it."
   ]
  },
  {
   "cell_type": "code",
   "execution_count": 88,
   "metadata": {},
   "outputs": [
    {
     "name": "stdout",
     "output_type": "stream",
     "text": [
      "Iteration 0: x = 200000\n",
      "Iteration 1: x = 200000\n",
      "Iteration 2: x = 200000\n",
      "Iteration 3: x = 200000\n",
      "Iteration 4: x = 200000\n",
      "Iteration 5: x = 200000\n",
      "Iteration 6: x = 200000\n",
      "Iteration 7: x = 200000\n",
      "Iteration 8: x = 200000\n",
      "Iteration 9: x = 200000\n"
     ]
    }
   ],
   "source": [
    "#Example of thread lock\n",
    "\n",
    "import threading \n",
    "  \n",
    "# global variable x \n",
    "x = 0\n",
    "  \n",
    "def increment(): #increments once\n",
    "    \"\"\" \n",
    "    function to increment global variable x \n",
    "    \"\"\"\n",
    "    global x \n",
    "    x += 1\n",
    "  \n",
    "def thread_task(lock): #increments 1 lac times\n",
    "    \"\"\" \n",
    "    task for thread \n",
    "    calls increment function 100000 times. \n",
    "    \"\"\"\n",
    "    for _ in range(100000): \n",
    "        lock.acquire() \n",
    "        increment() \n",
    "        lock.release() \n",
    "  \n",
    "def main_task(): \n",
    "    global x \n",
    "    # setting global variable x as 0 \n",
    "    x = 0\n",
    "  \n",
    "    # creating a lock \n",
    "    lock = threading.Lock() \n",
    "  \n",
    "    # creating threads \n",
    "    t1 = threading.Thread(target=thread_task, args=(lock,)) \n",
    "    t2 = threading.Thread(target=thread_task, args=(lock,)) \n",
    "  \n",
    "    # start threads \n",
    "    t1.start() \n",
    "    t2.start() \n",
    "  \n",
    "    # wait until threads finish their job \n",
    "    t1.join() \n",
    "    t2.join() \n",
    "  \n",
    "if __name__ == \"__main__\": \n",
    "    for i in range(10): \n",
    "        main_task() \n",
    "        print(\"Iteration {0}: x = {1}\".format(i,x)) "
   ]
  },
  {
   "cell_type": "code",
   "execution_count": null,
   "metadata": {},
   "outputs": [],
   "source": []
  }
 ],
 "metadata": {
  "kernelspec": {
   "display_name": "Python 3",
   "language": "python",
   "name": "python3"
  },
  "language_info": {
   "codemirror_mode": {
    "name": "ipython",
    "version": 3
   },
   "file_extension": ".py",
   "mimetype": "text/x-python",
   "name": "python",
   "nbconvert_exporter": "python",
   "pygments_lexer": "ipython3",
   "version": "3.7.1"
  }
 },
 "nbformat": 4,
 "nbformat_minor": 2
}
