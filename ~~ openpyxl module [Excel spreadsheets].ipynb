{
 "cells": [
  {
   "cell_type": "markdown",
   "metadata": {},
   "source": [
    "## Reading Data"
   ]
  },
  {
   "cell_type": "code",
   "execution_count": 94,
   "metadata": {},
   "outputs": [],
   "source": [
    "import openpyxl"
   ]
  },
  {
   "cell_type": "code",
   "execution_count": 95,
   "metadata": {},
   "outputs": [],
   "source": [
    "path = 'C:\\\\users\\\\hp\\\\desktop\\\\Test.xlsx'"
   ]
  },
  {
   "cell_type": "code",
   "execution_count": 96,
   "metadata": {},
   "outputs": [],
   "source": [
    "workbook_obj = openpyxl.load_workbook(path)"
   ]
  },
  {
   "cell_type": "code",
   "execution_count": 97,
   "metadata": {},
   "outputs": [],
   "source": [
    "sheet_obj = workbook_obj.active"
   ]
  },
  {
   "cell_type": "code",
   "execution_count": 98,
   "metadata": {},
   "outputs": [],
   "source": [
    "ws2 = workbook_obj.create_sheet(title = 'Foo bar')\n",
    "#This does not create sheet as these operations are for reading and not for writng/modifying"
   ]
  },
  {
   "cell_type": "code",
   "execution_count": 137,
   "metadata": {},
   "outputs": [],
   "source": [
    "cell_obj = sheet_obj.cell(row = 1,column = 1)"
   ]
  },
  {
   "cell_type": "code",
   "execution_count": 100,
   "metadata": {},
   "outputs": [
    {
     "name": "stdout",
     "output_type": "stream",
     "text": [
      "ID\n"
     ]
    }
   ],
   "source": [
    "print(cell_obj.value)"
   ]
  },
  {
   "cell_type": "code",
   "execution_count": 101,
   "metadata": {},
   "outputs": [
    {
     "data": {
      "text/plain": [
       "5"
      ]
     },
     "execution_count": 101,
     "metadata": {},
     "output_type": "execute_result"
    }
   ],
   "source": [
    "sheet_obj.max_row"
   ]
  },
  {
   "cell_type": "code",
   "execution_count": 102,
   "metadata": {},
   "outputs": [
    {
     "data": {
      "text/plain": [
       "6"
      ]
     },
     "execution_count": 102,
     "metadata": {},
     "output_type": "execute_result"
    }
   ],
   "source": [
    "sheet_obj.max_column"
   ]
  },
  {
   "cell_type": "code",
   "execution_count": 103,
   "metadata": {},
   "outputs": [
    {
     "name": "stdout",
     "output_type": "stream",
     "text": [
      "column:    1   |column:    2   |column:    3   |column:    4   |column:    5   |column:    6   |\n",
      "\n",
      "      ID       |     Name      |     Class     |    Section    | Class Teacher |   Comments    |"
     ]
    }
   ],
   "source": [
    "for i in range(1,sheet_obj.max_column+1):\n",
    "        print('column: {0:^7}|'.format(i), end = '')   \n",
    "print('\\n')\n",
    "for i in range(1,sheet_obj.max_column+1):\n",
    "    cell_obj = sheet_obj.cell(1,i)\n",
    "    value = cell_obj.value\n",
    "    print('{0:^15}|'.format(value),end = '')"
   ]
  },
  {
   "cell_type": "code",
   "execution_count": 105,
   "metadata": {},
   "outputs": [],
   "source": [
    "cell_obj = sheet_obj.cell(row = 5, column =4)\n",
    "cell_obj.value = 'Another'\n",
    "#This does not actually change workbook cell"
   ]
  },
  {
   "cell_type": "code",
   "execution_count": 106,
   "metadata": {},
   "outputs": [
    {
     "name": "stdout",
     "output_type": "stream",
     "text": [
      "______|column:    1   |column:    2   |column:    3   |column:    4   |column:    5   |column:    6   \n",
      "\n",
      "row: 1|      ID       |     Name      |     Class     |    Section    | Class Teacher |   Comments    \n",
      "\n",
      "row: 2|    Humpty     |    Dumpty     |    Sitting    |      On       |       A       |     Wall      \n",
      "\n",
      "row: 3|      Tom      |     Dick      |      And      |     Harry     |     Louis     |   Phillipe    \n",
      "\n",
      "row: 4|     Wall      |    Street     |    Journal    |     Came      |   Crashing    |     Down      \n",
      "\n",
      "row: 5|     Every     |     Cloud     |      Has      |    Another    |    Silver     |    Lining     \n",
      "\n"
     ]
    }
   ],
   "source": [
    "#Even though by printing cell we see that the content has changed\n",
    "print('______|',end= '')\n",
    "lastC = sheet_obj.max_column+1\n",
    "lastR = sheet_obj.max_row+1\n",
    "for i in range(1,lastC):\n",
    "        print('column: {0:^7}'.format(i), end = '')\n",
    "        if(i != lastC-1):\n",
    "            print('|',end = '')\n",
    "print('\\n')\n",
    "for i in range(1,lastR):\n",
    "    print('row:',i,end = '|')\n",
    "    for j in range(1,lastC):\n",
    "        cell_obj = sheet_obj.cell(i,j)\n",
    "        value = cell_obj.value\n",
    "        print('{0:^15}'.format(value),end = '')\n",
    "        if(j != lastC-1):\n",
    "            print('|',end = '')\n",
    "    print('\\n')"
   ]
  },
  {
   "cell_type": "markdown",
   "metadata": {},
   "source": [
    "## Writing Workbook"
   ]
  },
  {
   "cell_type": "code",
   "execution_count": 69,
   "metadata": {},
   "outputs": [],
   "source": [
    "#Creating a workbook with some data"
   ]
  },
  {
   "cell_type": "code",
   "execution_count": 133,
   "metadata": {},
   "outputs": [],
   "source": [
    "from openpyxl import Workbook\n",
    "from openpyxl.utils import get_column_letter"
   ]
  },
  {
   "cell_type": "code",
   "execution_count": 134,
   "metadata": {},
   "outputs": [],
   "source": [
    "wb = Workbook()"
   ]
  },
  {
   "cell_type": "code",
   "execution_count": 135,
   "metadata": {},
   "outputs": [],
   "source": [
    "Filename = 'MyWorkbook.xlsx'"
   ]
  },
  {
   "cell_type": "code",
   "execution_count": 136,
   "metadata": {},
   "outputs": [
    {
     "name": "stdout",
     "output_type": "stream",
     "text": [
      "AA\n"
     ]
    }
   ],
   "source": [
    "ws1 = wb.active\n",
    "ws1.title = 'Best Works'\n",
    "for i in range(40):\n",
    "    ws1.append(range(600))\n",
    "ws2 = wb.create_sheet(title = 'Critiques')\n",
    "ws2['A1'] = 'No comment'\n",
    "ws3 = wb.create_sheet(title = 'Award list')\n",
    "for row in range(10, 20):\n",
    "    for col in range(27, 54):\n",
    "        _ = ws3.cell(column=col, row=row, value=\"{0}\".format(get_column_letter(col)))\n",
    "print(ws3['AA10'].value)\n",
    "wb.save(Filename)"
   ]
  },
  {
   "cell_type": "code",
   "execution_count": null,
   "metadata": {},
   "outputs": [],
   "source": []
  }
 ],
 "metadata": {
  "kernelspec": {
   "display_name": "Python 3",
   "language": "python",
   "name": "python3"
  },
  "language_info": {
   "codemirror_mode": {
    "name": "ipython",
    "version": 3
   },
   "file_extension": ".py",
   "mimetype": "text/x-python",
   "name": "python",
   "nbconvert_exporter": "python",
   "pygments_lexer": "ipython3",
   "version": "3.7.1"
  }
 },
 "nbformat": 4,
 "nbformat_minor": 2
}
