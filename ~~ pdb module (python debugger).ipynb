{
 "cells": [
  {
   "cell_type": "code",
   "execution_count": 1,
   "metadata": {},
   "outputs": [],
   "source": [
    "#Write a file, say file.py\n",
    "#Open commmand prompt, navigate to the file, and write command >>python -m pdb file.py\n",
    "#Use command >>'list' to show lines of code(11 unless mentioned) above and below the current line"
   ]
  },
  {
   "cell_type": "code",
   "execution_count": 4,
   "metadata": {},
   "outputs": [],
   "source": [
    "#'Next' moves to the next line while executing the previous line. It does not go inside functions,\n",
    "#But executes them instead\n",
    "#'Step' moves into functions"
   ]
  },
  {
   "cell_type": "code",
   "execution_count": null,
   "metadata": {},
   "outputs": [],
   "source": [
    "#'Continue' statement will cause complete program to be execute and then go back to be at the first \n",
    "#line, in case there was no breakpoint. In case of breakpoint, it will execute the program till it \n",
    "#encounters a breakpoint. Using 'Continue' again will bypass the breakpoint and continue program \n",
    "#execution to either hit the next breakpoint or the end of the program."
   ]
  },
  {
   "cell_type": "code",
   "execution_count": 3,
   "metadata": {},
   "outputs": [],
   "source": [
    "#Breakpoints : We can set breakpoints at a particular line. It causes the program to stop executing\n",
    "#When a breakpoint is hit. If we use breakpoint with a condition, breakpoint will only be encountered\n",
    "#When the condition is true. eg. 'break 5' will set the breakpoint to line 5. 'break 5, x>50' will\n",
    "#Set the breakpoint when x is greater than 50"
   ]
  },
  {
   "cell_type": "code",
   "execution_count": 5,
   "metadata": {},
   "outputs": [],
   "source": [
    "# Writing command 'break' gives list of all breakpoints\n",
    "# 'clear' followed by 'y' will clear all the breakpoints\n",
    "# 'clear x' clears breakpoint number x\n",
    "# 'disable x' disables breakpoint x\n",
    "# 'enable x' enables breakpoint x "
   ]
  },
  {
   "cell_type": "code",
   "execution_count": 6,
   "metadata": {},
   "outputs": [],
   "source": [
    "#We can also use pdb from within a program. import pdb into a file and write statement pdb.set_trace()\n",
    "#to start the debugger with it being started from that line.\n",
    "#'jump' jumps from current line to given line if allowed\n",
    "#'pp' (pretty print) prints a variable \n",
    "# 'return' will continue execution till current funtion returns"
   ]
  },
  {
   "cell_type": "code",
   "execution_count": null,
   "metadata": {},
   "outputs": [],
   "source": []
  }
 ],
 "metadata": {
  "kernelspec": {
   "display_name": "Python 3",
   "language": "python",
   "name": "python3"
  },
  "language_info": {
   "codemirror_mode": {
    "name": "ipython",
    "version": 3
   },
   "file_extension": ".py",
   "mimetype": "text/x-python",
   "name": "python",
   "nbconvert_exporter": "python",
   "pygments_lexer": "ipython3",
   "version": "3.7.1"
  }
 },
 "nbformat": 4,
 "nbformat_minor": 2
}
