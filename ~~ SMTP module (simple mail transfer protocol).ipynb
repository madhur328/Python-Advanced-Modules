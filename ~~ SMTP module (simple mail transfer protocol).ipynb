{
 "cells": [
  {
   "cell_type": "code",
   "execution_count": 17,
   "metadata": {},
   "outputs": [
    {
     "name": "stdout",
     "output_type": "stream",
     "text": [
      "mail sent\n"
     ]
    }
   ],
   "source": [
    "import smtplib\n",
    "from email.mime.multipart import MIMEMultipart\n",
    "from email.mime.text import MIMEText\n",
    "\n",
    "sender = 'madhurgupta328@gmail.com'\n",
    "password = 'bpdyubotxaxsvbem'\n",
    "\n",
    "msg = MIMEMultipart('alternative')\n",
    "msg['From'] = 'madhurgupta328@gmail.com'\n",
    "msg['To'] = 'madhurgupta_328@yahoo.co.in'\n",
    "msg['Subject'] = 'this is a test message'\n",
    "content = '<html><body><p>Hi, I have the following alerts for you!</p></body></html>'\n",
    "part2 = MIMEText(content, 'html')\n",
    "msg.attach(part2)\n",
    "\n",
    "try:\n",
    "    mailserver = smtplib.SMTP(\"smtp.gmail.com\",587)\n",
    "    mailserver.ehlo()\n",
    "    mailserver.starttls()\n",
    "    mailserver.login(sender,password)\n",
    "    mailserver.sendmail('madhurgupta328@gmail.com','madhurgupta_328@yahoo.co.in',msg.as_string())\n",
    "    mailserver.close()\n",
    "    print('mail sent')\n",
    "except Exception as ex:\n",
    "    print('message not sent because of',ex.message)"
   ]
  },
  {
   "cell_type": "code",
   "execution_count": 14,
   "metadata": {},
   "outputs": [
    {
     "name": "stdout",
     "output_type": "stream",
     "text": [
      "To:madhurgupta_328@yahoo.co.in\n",
      "From: madhurgupta328@gmail.com\n",
      "Subject:testing \n",
      "\n",
      "done!\n"
     ]
    },
    {
     "data": {
      "text/plain": [
       "(221, b'2.0.0 closing connection k4sm14982835pfg.40 - gsmtp')"
      ]
     },
     "execution_count": 14,
     "metadata": {},
     "output_type": "execute_result"
    }
   ],
   "source": [
    "to = 'madhurgupta_328@yahoo.co.in'\n",
    "gmail_user = 'madhurgupta328@gmail.com'\n",
    "gmail_pwd = 'bpdyubotxaxsvbem'\n",
    "smtpserver = smtplib.SMTP(\"smtp.gmail.com\",587)\n",
    "smtpserver.ehlo()\n",
    "smtpserver.starttls()\n",
    "smtpserver.ehlo() # extra characters to permit edit\n",
    "smtpserver.login(gmail_user, gmail_pwd)\n",
    "header = 'To:' + to + '\\n' + 'From: ' + gmail_user + '\\n' + 'Subject:testing \\n'\n",
    "print(header)\n",
    "msg = header + '\\n this is test msg\\n\\n'\n",
    "smtpserver.sendmail(gmail_user, to, msg)\n",
    "print('done!')\n",
    "smtpserver.quit()"
   ]
  },
  {
   "cell_type": "code",
   "execution_count": 15,
   "metadata": {},
   "outputs": [],
   "source": [
    "import smtplib, ssl\n",
    "\n",
    "smtp_server = \"smtp.gmail.com\"\n",
    "port = 587  # For starttls\n",
    "sender_email = \"madhurgupta328@gmail.com\"\n",
    "receiver_email = \"madhurgupta_328@yahoo.co.in\"\n",
    "password = \"bpdyubotxaxsvbem\"\n",
    "message = \"\"\" Subject: Hi there\n",
    "\n",
    "This message is sent from Python.\"\"\"\n",
    "\n",
    "\n",
    "# Create a secure SSL context\n",
    "context = ssl.create_default_context()\n",
    "\n",
    "# Try to log in to server and send email\n",
    "server = smtplib.SMTP(smtp_server,port)\n",
    "\n",
    "try:\n",
    "    server.ehlo() # Can be omitted\n",
    "    server.starttls(context=context) # Secure the connection\n",
    "    server.ehlo() # Can be omitted\n",
    "    server.login(sender_email, password)\n",
    "    server.sendmail(sender_email, receiver_email, message)\n",
    "    print('Message sent')\n",
    "except Exception as e:\n",
    "    # Print any error messages to stdout\n",
    "    print(e)\n",
    "finally:\n",
    "    server.quit()"
   ]
  },
  {
   "cell_type": "code",
   "execution_count": null,
   "metadata": {},
   "outputs": [],
   "source": []
  }
 ],
 "metadata": {
  "kernelspec": {
   "display_name": "Python 3",
   "language": "python",
   "name": "python3"
  },
  "language_info": {
   "codemirror_mode": {
    "name": "ipython",
    "version": 3
   },
   "file_extension": ".py",
   "mimetype": "text/x-python",
   "name": "python",
   "nbconvert_exporter": "python",
   "pygments_lexer": "ipython3",
   "version": "3.7.1"
  }
 },
 "nbformat": 4,
 "nbformat_minor": 2
}
